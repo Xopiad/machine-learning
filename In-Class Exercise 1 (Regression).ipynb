{
 "cells": [
  {
   "cell_type": "markdown",
   "metadata": {},
   "source": [
    "## Regression\n",
    "\n",
    "Dataset: Boston house prices dataset (https://scikit-learn.org/stable/datasets/index.html)\n",
    "\n",
    "\n",
    "Tasks: Set 1\n",
    "\n",
    "Implement least-squares (LS) regression -- 5 pts\n",
    "Carry out LS regression on the house prices dataset using 5-fold cross validation and report the average prediction error -- 10pts\n",
    "Provide a plot of \"Measured versus Predicted\" values and overlay on top of this a line with slope 1 -- 5 pts\n",
    "\n",
    "\n",
    "Tasks: Set 2\n",
    "\n",
    "Implement ridge regression -- 5 pts\n",
    "Carry out ridge regression on the house prices dataset by learning lambda using 5-fold cross validation, where one of the folds is reserved for final testing, and report the average prediction error -- 15"
   ]
  },
  {
   "cell_type": "markdown",
   "metadata": {},
   "source": [
    "Importing Boston House Prices Dataset and creating augmented data matrix by adding a row to feature matrix of value 1 to each data sample"
   ]
  },
  {
   "cell_type": "code",
   "execution_count": 1,
   "metadata": {},
   "outputs": [],
   "source": [
    "%matplotlib inline\n",
    "import matplotlib.pyplot as plt\n",
    "import numpy as np\n",
    "import math\n",
    "\n",
    "from sklearn.datasets import load_boston\n",
    "data, house_prices = load_boston(return_X_y=True)\n",
    "\n",
    "n = len(data)\n",
    "m = len(data[0])\n",
    "\n",
    "features = np.ones((n,m+1))\n",
    "features[:,0:13] = data"
   ]
  },
  {
   "cell_type": "markdown",
   "metadata": {},
   "source": [
    "Splitting the data for cross validation, "
   ]
  },
  {
   "cell_type": "code",
   "execution_count": 2,
   "metadata": {},
   "outputs": [],
   "source": [
    "#Splits\n",
    "k = 5\n",
    "\n",
    "data_splits = np.zeros((k), dtype=object)\n",
    "price_splits = np.zeros((k), dtype=object)\n",
    "\n",
    "data_splits[0] = np.array(features[:int(n/k)])\n",
    "price_splits[0] = np.array(house_prices[:int(n/k)])\n",
    "\n",
    "for i in range(1,k):\n",
    "    data_splits[i] = np.array(features[int((i*n)/k): int((i+1)*n/k)])\n",
    "    price_splits[i] = np.array(house_prices[int((i*n)/k): int((i+1)*n/k)])"
   ]
  },
  {
   "cell_type": "markdown",
   "metadata": {},
   "source": [
    "Defining functions for least squares, ridge regression, and cross validation. Least squares and ridge regression use the closed form solution."
   ]
  },
  {
   "cell_type": "code",
   "execution_count": 3,
   "metadata": {},
   "outputs": [],
   "source": [
    "def least_squares(x, y, test_data):\n",
    "    w_tilda = np.linalg.inv(x.T @ x)@ x.T @ y\n",
    "    return test_data @ w_tilda\n",
    "\n",
    "def ridge_regression(x, y, test_data, _lambda):\n",
    "    w_tilda = np.linalg.inv((x.T @ x)+ _lambda*np.identity(m+1))@ x.T @ y\n",
    "    return test_data @ w_tilda\n",
    "\n",
    "def cross_validation(k, split_data, split_labels, classifier_func, regulator = 0, regression_plots = False):\n",
    "    regression_error = np.zeros((k)) #Array to hold regression error of each fold\n",
    "    \n",
    "    for i in range(k):\n",
    "        #Seperating split data into training and test sets (4 splits for training, 1 for testing)\n",
    "        training = np.concatenate(np.delete(split_data, i))\n",
    "        train_labels = np.concatenate(np.delete(split_labels, i))\n",
    "        \n",
    "        test = split_data[i]\n",
    "        test_labels = split_labels[i]\n",
    "        \n",
    "        #Obtaining regression values\n",
    "        if classifier_func == least_squares:\n",
    "            classifier_values = classifier_func(training, train_labels, test)\n",
    "        elif classifier_func == ridge_regression:\n",
    "            classifier_values = classifier_func(training, train_labels, test, regulator)\n",
    "        \n",
    "        #Plots for regression\n",
    "        if regression_plots:\n",
    "            plt.scatter(test_labels, classifier_values, c=\"blue\")\n",
    "            x = np.linspace(0, np.max(house_prices), 1000)\n",
    "            plt.plot(x, x, c=\"black\")\n",
    "            plt.xlabel(\"Measured\")\n",
    "            plt.ylabel(\"Predicted\")\n",
    "            plt.title(\"Measured vs Predicted Median value of owner-occupied homes in $1000s\")\n",
    "            plt.plot()\n",
    "        \n",
    "        #Calculating classification rate: (# of correctly classified test samples)/(total number of test samples)\n",
    "        regression_error[i] = sum(np.square(test_labels-classifier_values))/len(classifier_values)\n",
    "         \n",
    "    #Returning the mean and variance of the classification rates\n",
    "    return np.mean(regression_error), np.var(regression_error)"
   ]
  },
  {
   "cell_type": "markdown",
   "metadata": {},
   "source": [
    "Performing 5-fold cross validation on the dataset and plotting the results of each classifier on each of the test sets. Also calculating the average regression error using the sum of residual squares error divided by the number of total number of data samples tested."
   ]
  },
  {
   "cell_type": "code",
   "execution_count": 4,
   "metadata": {},
   "outputs": [
    {
     "name": "stdout",
     "output_type": "stream",
     "text": [
      "Average regression error using least squares:  37.125390481938354\n"
     ]
    },
    {
     "data": {
      "image/png": "[encoded data removed]",
      "text/plain": [
       "<Figure size 432x288 with 1 Axes>"
      ]
     },
     "metadata": {},
     "output_type": "display_data"
    }
   ],
   "source": [
    "ls_mean, ls_var = cross_validation(5, data_splits, price_splits, least_squares, 0, regression_plots = True)\n",
    "\n",
    "print(\"Average regression error using least squares: \", ls_mean)"
   ]
  },
  {
   "cell_type": "markdown",
   "metadata": {},
   "source": [
    "Ridge Regression: Finding the best lambda value using 4 splits, 3 for training and 1 for testing. One set will be left out for validation of the final classifier using the lambda value found."
   ]
  },
  {
   "cell_type": "code",
   "execution_count": 5,
   "metadata": {},
   "outputs": [
    {
     "name": "stdout",
     "output_type": "stream",
     "text": [
      "Average regression error using ridge regression, lamdba =  1 :  40.48947117894346\n",
      "\n",
      "Average regression error using ridge regression, lamdba =  3 :  40.274400310182266\n",
      "\n",
      "Average regression error using ridge regression, lamdba =  5 :  40.16112498332735\n",
      "\n",
      "Average regression error using ridge regression, lamdba =  10 :  40.04274591013128\n",
      "\n",
      "Average regression error using ridge regression, lamdba =  30 :  40.651451141556734\n",
      "\n",
      "Average regression error using ridge regression, lamdba =  50 :  42.05970422347459\n",
      "\n",
      "The best lambda value is: 10\n"
     ]
    }
   ],
   "source": [
    "lambda_values = np.array([1, 3, 5, 10, 30, 50]) #Lambda values to be tested and to find the best one \n",
    "lambda_average_error = np.zeros((len(lambda_values))) #Average error for each lambda value\n",
    "\n",
    "ridge_regression_dataset = np.delete(data_splits,0) #4 data splits for testing lambda\n",
    "ridge_regression_priceset = np.delete(price_splits,0) #4 label(price) splits for testing lambda\n",
    "\n",
    "validation_dataset = data_splits[0]  #Leftover dataset for validation\n",
    "validation_priceset = price_splits[0] #Leftover price set for validation\n",
    "\n",
    "for i in range(len(lambda_values)):\n",
    "    rr_mean, rr_var = cross_validation(4, ridge_regression_dataset, ridge_regression_priceset, ridge_regression, lambda_values[i])\n",
    "    lambda_average_error[i] = rr_mean\n",
    "    print(\"Average regression error using ridge regression, lamdba = \",lambda_values[i],\": \", rr_mean)\n",
    "    print()\n",
    "    \n",
    "best_lambda = lambda_values[int(np.argmin(lambda_average_error))]\n",
    "print(\"The best lambda value is:\", best_lambda)"
   ]
  },
  {
   "cell_type": "markdown",
   "metadata": {},
   "source": [
    "The best lambda value that was found was 10, therefore we will use it to train the final classifier with 4 of the splits."
   ]
  },
  {
   "cell_type": "code",
   "execution_count": 6,
   "metadata": {},
   "outputs": [
    {
     "name": "stdout",
     "output_type": "stream",
     "text": [
      "Average regression error using ridge regression, lamdba =  10 :  32.517177697956924\n"
     ]
    }
   ],
   "source": [
    "rr_mean, rr_var = cross_validation(5, data_splits, price_splits, ridge_regression, best_lambda)\n",
    "print(\"Average regression error using ridge regression, lamdba = \",best_lambda,\": \", rr_mean)"
   ]
  },
  {
   "cell_type": "code",
   "execution_count": null,
   "metadata": {},
   "outputs": [],
   "source": []
  }
 ],
 "metadata": {
  "kernelspec": {
   "display_name": "Python 3",
   "language": "python",
   "name": "python3"
  },
  "language_info": {
   "codemirror_mode": {
    "name": "ipython",
    "version": 3
   },
   "file_extension": ".py",
   "mimetype": "text/x-python",
   "name": "python",
   "nbconvert_exporter": "python",
   "pygments_lexer": "ipython3",
   "version": "3.6.5"
  }
 },
 "nbformat": 4,
 "nbformat_minor": 2
}
