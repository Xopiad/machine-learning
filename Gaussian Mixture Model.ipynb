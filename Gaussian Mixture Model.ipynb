{
 "cells": [
  {
   "cell_type": "markdown",
   "metadata": {},
   "source": [
    "Implementing Guassian Mixture Model to get a better picture of how the algorithm works."
   ]
  },
  {
   "cell_type": "code",
   "execution_count": 1,
   "metadata": {},
   "outputs": [
    {
     "data": {
      "text/plain": [
       "[]"
      ]
     },
     "execution_count": 1,
     "metadata": {},
     "output_type": "execute_result"
    },
    {
     "data": {
      "image/png": "[encoded data removed]",
      "text/plain": [
       "<Figure size 432x288 with 1 Axes>"
      ]
     },
     "metadata": {},
     "output_type": "display_data"
    }
   ],
   "source": [
    "%matplotlib inline\n",
    "import matplotlib.pyplot as plt\n",
    "import numpy as np\n",
    "import math\n",
    "import scipy.linalg\n",
    "import scipy.stats\n",
    "\n",
    "\n",
    "#Training Data\n",
    "training_data = np.zeros((300,2))\n",
    "n = len(training_data)\n",
    "k = 3\n",
    "m = 2\n",
    "\n",
    "training_data[0:100] = scipy.stats.multivariate_normal([-4,2],[[2,0],[0,2]]).rvs(100)\n",
    "training_data[100:200] = scipy.stats.multivariate_normal([5,3],[[1.5,0],[0,1.5]]).rvs(100)\n",
    "training_data[200:300] = scipy.stats.multivariate_normal([0,-6],[[5,1],[1,3]]).rvs(100)\n",
    "\n",
    "for i in range(n):\n",
    "    plt.scatter(training_data[i,0], training_data[i,1], c=\"black\")\n",
    "plt.plot()"
   ]
  },
  {
   "cell_type": "code",
   "execution_count": 2,
   "metadata": {},
   "outputs": [
    {
     "name": "stdout",
     "output_type": "stream",
     "text": [
      "Expectation-Maximization Algorithm for GMM converged after 30 iterations\n"
     ]
    }
   ],
   "source": [
    "def invertible(a):\n",
    "    try:\n",
    "        test_inverse = np.linalg.inv(a)\n",
    "        return True\n",
    "    except Exception as inst:\n",
    "        print(type(inst))    # the exception instance\n",
    "        return False\n",
    "    #return a.shape[0] == a.shape[1] and np.linalg.matrix_rank(a) == a.shape[0]\n",
    "\n",
    "pi = np.random.rand((k))\n",
    "pi /= np.sum(pi) #Randomly initialize pi so that the elements sum to 1\n",
    "\n",
    "mu = np.zeros((k,m))\n",
    "sigma = np.zeros((k,m,m))\n",
    "cluster = np.zeros((n)) #List to keep track of cluster assigned to each data sample\n",
    "probabilities = np.zeros((n,k)) #Pij for each data sample\n",
    "num_of_iter = 0 #Keep track of the number of iterations the algorithm takes\n",
    "converged = False #Variable to test if algorithm has converged\n",
    "\n",
    "#Randomly initialize mu and sigma for each cluster\n",
    "for i in range(3):\n",
    "    mu[i] = [np.random.rand()*16-8,np.random.rand()*15-10] #Random Mean Vector\n",
    "    eigval = np.random.rand(m) #Random POSITIVE eigenvalues\n",
    "    q, _ = scipy.linalg.qr(np.random.rand(m, m)) #Random rotation matrix\n",
    "    sigma[i] = q.T @ np.diag(eigval) @ q #Random Positive-Semidefinite Covariance Matrix\n",
    "    \n",
    "#Expectation Maximaiztion Algorithm\n",
    "while not converged:\n",
    "    #Estimation Step: Calculating P_ij vector for each data sample (Probability that data sample i belongs in cluster j)\n",
    "    for i in range(n):\n",
    "        px = 0\n",
    "        for j in range(k):\n",
    "            probabilities[i,j] = pi[j]*scipy.stats.multivariate_normal(mu[j], sigma[j]).pdf(training_data[i])\n",
    "        px = sum(probabilities[i])\n",
    "        probabilities[i] /= px\n",
    "    \n",
    "    #Maximization Step: Updating pi, mu, and sigma\n",
    "    for j in range(k):\n",
    "        p_j = sum(probabilities[:,j]) #The sum of all the probabilities that a training data belongs in cluster j\n",
    "        pi[j] = p_j/n #Updating pi[j]\n",
    "        \n",
    "        '''Matrix Methods\n",
    "        mu[j] = sum(training_data.T @ probabilities[:,j])/p_j\n",
    "        sigma[j] = sum((training_data-mu[j]).T @ (training_data-mu[j]))/p_j\n",
    "        print(mu[j], sigma[j])\n",
    "        '''\n",
    "        \n",
    "        #Resets mu and sigma for next iteration\n",
    "        mu[j] -= mu[j]\n",
    "        sigma[j] -= sigma[j]\n",
    "        \n",
    "        for i in range(n):\n",
    "            mu[j] += probabilities[i,j]*training_data[i] #Numerator of mu update equation\n",
    "            temp = (training_data[i]-mu[j]/p_j) #Helper variable for sigma calculation\n",
    "            sigma[j] += probabilities[i,j]*np.outer(temp,temp.T)#Numerator of sigma update equation\n",
    "        mu[j] /= p_j \n",
    "        sigma[j] /= p_j\n",
    "       \n",
    "    num_of_iter += 1\n",
    "    \n",
    "    #Conditions for Convergence\n",
    "    for j in range(k):\n",
    "        if not invertible(sigma[j]):\n",
    "            converged = True #Reaches Minimum (maybe local)\n",
    "    if (num_of_iter == 30):\n",
    "        converged = True #Iteration Cap\n",
    "\n",
    "for i in range(n):\n",
    "    cluster[i] = int(np.argmax(probabilities[i])) #Assigning training sample i to cluster with highest probability of containing it\n",
    "\n",
    "print(\"Expectation-Maximization Algorithm for GMM converged after\", num_of_iter, \"iterations\")"
   ]
  },
  {
   "cell_type": "code",
   "execution_count": 3,
   "metadata": {},
   "outputs": [
    {
     "data": {
      "text/plain": [
       "[]"
      ]
     },
     "execution_count": 3,
     "metadata": {},
     "output_type": "execute_result"
    },
    {
     "data": {
      "image/png": "[encoded data removed]",
      "text/plain": [
       "<Figure size 432x288 with 1 Axes>"
      ]
     },
     "metadata": {},
     "output_type": "display_data"
    }
   ],
   "source": [
    "#Plotting data for 3 clusters\n",
    "for z in range(n):\n",
    "    if cluster[z] == 0:\n",
    "        plt.scatter(training_data[z,0], training_data[z,1], c=\"black\")    \n",
    "    elif cluster[z] == 1:\n",
    "        plt.scatter(training_data[z,0], training_data[z,1], c=\"blue\")\n",
    "    elif cluster[z] == 2:\n",
    "        plt.scatter(training_data[z,0], training_data[z,1], c=\"red\")\n",
    "for y in range(k):\n",
    "    plt.scatter(mu[y,0], mu[y,1], c=\"orange\")\n",
    "plt.gca().set_aspect('equal', adjustable='box')\n",
    "plt.plot() "
   ]
  },
  {
   "cell_type": "code",
   "execution_count": null,
   "metadata": {},
   "outputs": [],
   "source": []
  }
 ],
 "metadata": {
  "kernelspec": {
   "display_name": "Python 3",
   "language": "python",
   "name": "python3"
  },
  "language_info": {
   "codemirror_mode": {
    "name": "ipython",
    "version": 3
   },
   "file_extension": ".py",
   "mimetype": "text/x-python",
   "name": "python",
   "nbconvert_exporter": "python",
   "pygments_lexer": "ipython3",
   "version": "3.6.5"
  }
 },
 "nbformat": 4,
 "nbformat_minor": 2
}
