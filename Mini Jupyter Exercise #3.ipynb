{
 "cells": [
  {
   "cell_type": "markdown",
   "metadata": {},
   "source": [
    "<h1>ECE 445: Machine Learning for Engineers - Albert Tran</h1>\n",
    "<h2>Mini Jupyter Exercise #3</h2>\n",
    "<p><strong>Objective</strong>: The goal of this exercise is to </p>\n",
    "<h3>Gradient Descent</h3>\n",
    "<br>    \n",
    "$f(\\textbf{w}) = ({w_1}^2 + w_2 - 11)^2 + ({w_1} + {w_2}^2 - 7)^2$"
   ]
  },
  {
   "cell_type": "code",
   "execution_count": 1,
   "metadata": {},
   "outputs": [],
   "source": [
    "%matplotlib inline\n",
    "import matplotlib.pyplot as plt\n",
    "import numpy as np\n",
    "import math\n",
    "\n",
    "step_size = 0\n",
    "iterations = 0\n",
    "starting_point = np.matrix([0,0])"
   ]
  },
  {
   "cell_type": "code",
   "execution_count": null,
   "metadata": {},
   "outputs": [],
   "source": []
  }
 ],
 "metadata": {
  "kernelspec": {
   "display_name": "Python 3",
   "language": "python",
   "name": "python3"
  },
  "language_info": {
   "codemirror_mode": {
    "name": "ipython",
    "version": 3
   },
   "file_extension": ".py",
   "mimetype": "text/x-python",
   "name": "python",
   "nbconvert_exporter": "python",
   "pygments_lexer": "ipython3",
   "version": "3.6.5"
  }
 },
 "nbformat": 4,
 "nbformat_minor": 2
}
