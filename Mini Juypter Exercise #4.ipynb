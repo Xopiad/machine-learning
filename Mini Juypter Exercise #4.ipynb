{
 "cells": [
  {
   "cell_type": "markdown",
   "metadata": {},
   "source": [
    "<h1>ECE 445: Machine Learning for Engineers - Albert Tran</h1>\n",
    "<h2>Mini Jupyter Exercise #4</h2>\n",
    "<h3>k-Nearest Neighbor Classification</h3>\n",
    "<br>\n",
    "<strong>Objective:</strong> In this exercise, we will engage in classification of images of handwritten digits ‘0’ and ‘1’ using\n",
    "k-nearest neighbor (k-NN) classification.\n",
    "<br>\n",
    "<h4>Training Data</h4>\n",
    "The training dataset for this problem corresponds to the images of handwritten digits ‘0’ and ‘1’ that come\n",
    "prepackaged with the sklearn package. There are a total of 360 images of digits ‘0’ and ‘1’; we will divide\n",
    "them into 300 images for training purposes, while we will evaluate the performance of k-NN classification\n",
    "on the remaining 60 images, which we will refer to as the “test” set."
   ]
  },
  {
   "cell_type": "code",
   "execution_count": 1,
   "metadata": {},
   "outputs": [],
   "source": [
    "%matplotlib inline\n",
    "import matplotlib.pyplot as plt\n",
    "import numpy as np\n",
    "import math\n",
    "\n",
    "from sklearn.datasets import load_digits\n",
    "images, labels = load_digits(2, return_X_y = True)\n",
    "\n",
    "m = 64 #Dimensionality of data samples\n",
    "n = 100 #n = Number of training samples\n",
    "test_n = 360 - n #Number of testing samples\n",
    "\n",
    "# Labeled training set\n",
    "training_images = images[:n]\n",
    "training_labels = labels[:n]\n",
    "\n",
    "# Labeled test set\n",
    "test_images = images[n:]\n",
    "test_labels = labels[n:]\n",
    "\n",
    "num_of_classes = 2 #Number of Classes = 2"
   ]
  },
  {
   "cell_type": "markdown",
   "metadata": {},
   "source": [
    "<h4>k-NN Classification Using 2-D Features</h4>\n",
    "<br>\n",
    "Principal Component Analysis (PCA) of images in the training set and computation two-dimensional PCA features of training images"
   ]
  },
  {
   "cell_type": "code",
   "execution_count": 2,
   "metadata": {},
   "outputs": [],
   "source": [
    "#Define PCA Function\n",
    "def pca(data, num_of_prin_comp):\n",
    "    num_of_data = len(data)\n",
    "    dim_of_data = len(data[0])\n",
    "    transposed_data = np.transpose(data)\n",
    "    mean = transposed_data.mean(1)  #Mean Vector\n",
    "    centered_data = np.zeros((dim_of_data,num_of_data))\n",
    "\n",
    "    for i in range(num_of_data):\n",
    "        centered_data[:,i] = transposed_data[:,i] - mean  #Centering Data\n",
    "\n",
    "    svd_u, svd_sigma, svd_v = np.linalg.svd(centered_data, full_matrices = True)  # SVD\n",
    "\n",
    "    u = np.zeros((dim_of_data,num_of_prin_comp))\n",
    "    s = np.zeros((num_of_prin_comp,num_of_prin_comp))\n",
    "\n",
    "    for i in range(dim_of_data):\n",
    "        for j in range(num_of_prin_comp):\n",
    "            u[i,j] = svd_u[i,j] #First r singular vectors of U\n",
    "    for i in range(num_of_prin_comp):\n",
    "        s[i,i] = svd_sigma[i] #Largest r singular values\n",
    "    \n",
    "    w = np.matrix(u)*np.matrix(s) #Principal Component Matrix with Principal Axes as Columns\n",
    "    for i in range(num_of_prin_comp):\n",
    "        w[:,i] = w[:,i]/np.linalg.norm(w[:,i]) #Normalizing Each Principal Component\n",
    "\n",
    "\n",
    "    transformed_data = np.transpose(np.transpose(w)*centered_data) #Feature Vectors\n",
    "    return transformed_data\n",
    "\n",
    "#Define k-NN Function\n",
    "def kNN(test_data, training_data, trainingLabels, numOfClasses, numberOfNeighbors):\n",
    "    #Array with each test data's k nearest neighbors's distance and index\n",
    "    nn = np.zeros((len(test_data), numberOfNeighbors, 2))\n",
    "    for i in range(len(test_data)):\n",
    "        distance = -1.0\n",
    "        count = 0\n",
    "        for j in range(len(training_data)):\n",
    "            two_norm = np.linalg.norm(test_data[i]-training_data[j])\n",
    "            #Filling up array with first k training data samples before finding k nearest neighbors\n",
    "            if count < numberOfNeighbors:\n",
    "                nn[i,count,0] = two_norm\n",
    "                nn[i,count,1] = j\n",
    "                count += 1\n",
    "                distance = np.max(nn[i,:,0])\n",
    "                continue\n",
    "            #Replacing when found closer training data\n",
    "            if two_norm < distance:\n",
    "                max_index = np.where(nn[i,:,0]==np.max(nn[i,:,0]))[0][0]\n",
    "                nn[i,max_index,0] = two_norm\n",
    "                nn[i,max_index,1] = j\n",
    "                distance = np.max(nn[i,:,0])\n",
    "            \n",
    "    classified_test_data = np.zeros((len(test_data)))\n",
    "    for i in range(len(test_data)):\n",
    "        neighbors = np.zeros((numOfClasses))\n",
    "        for j in range(numberOfNeighbors):\n",
    "            neighbors_class = trainingLabels[int(nn[i,j,1])]\n",
    "            neighbors[neighbors_class] += 1\n",
    "        classified_test_data[i] = np.where(neighbors == np.max(neighbors))[0][0]\n",
    "    return classified_test_data"
   ]
  },
  {
   "cell_type": "code",
   "execution_count": 3,
   "metadata": {},
   "outputs": [
    {
     "data": {
      "text/plain": [
       "[]"
      ]
     },
     "execution_count": 3,
     "metadata": {},
     "output_type": "execute_result"
    },
    {
     "data": {
      "image/png": "[encoded data removed]",
      "text/plain": [
       "<Figure size 432x288 with 1 Axes>"
      ]
     },
     "metadata": {},
     "output_type": "display_data"
    }
   ],
   "source": [
    "#Performing PCA on the training image set with 2 principal components\n",
    "\n",
    "transformed_training_data = pca(training_images, 2) #Feature Vectors\n",
    "\n",
    "\n",
    "#Plotting training data in 2D (Red = 0, Green = 1)\n",
    "for i in range(n):\n",
    "    if training_labels[i]==0:\n",
    "        plt.scatter(transformed_training_data[i,0], transformed_training_data[i,1], color = \"red\")\n",
    "    else:\n",
    "        plt.scatter(transformed_training_data[i,0], transformed_training_data[i,1], color = \"green\")\n",
    "plt.plot()"
   ]
  },
  {
   "cell_type": "markdown",
   "metadata": {},
   "source": [
    "Classification of each image in the test set by first transforming it to the two-dimensional PCA domain using the\n",
    "principal components obtained above and then using k-NN classification with k = 5 and the distance\n",
    "metric being $\\left \\| \\cdot  \\right \\|_2$."
   ]
  },
  {
   "cell_type": "code",
   "execution_count": 4,
   "metadata": {},
   "outputs": [
    {
     "data": {
      "text/plain": [
       "[]"
      ]
     },
     "execution_count": 4,
     "metadata": {},
     "output_type": "execute_result"
    },
    {
     "data": {
      "image/png": "[encoded data removed]",
      "text/plain": [
       "<Figure size 432x288 with 1 Axes>"
      ]
     },
     "metadata": {},
     "output_type": "display_data"
    }
   ],
   "source": [
    "#Transforming Test Set into 2D\n",
    "transformed_test_data = pca(test_images, 2) #Feature Vectors\n",
    "\n",
    "\n",
    "#Classifying Test Set with 5-Nearest Neighbors\n",
    "classified_test_labels = kNN(transformed_test_data, transformed_training_data, training_labels, num_of_classes, 5)\n",
    "\n",
    "#Plotting Classified Test Data (Blue = Correct Classification, Black = Incorrect Classification)\n",
    "for i in range(test_n):\n",
    "    if classified_test_labels[i] == test_labels[i]:\n",
    "        plt.scatter(transformed_test_data[i,0], transformed_test_data[i,1], color=\"blue\")\n",
    "    else:\n",
    "        plt.scatter(transformed_test_data[i,0], transformed_test_data[i,1], color=\"black\")\n",
    "plt.plot()"
   ]
  },
  {
   "cell_type": "markdown",
   "metadata": {},
   "source": [
    "Two Plots Overlayed:"
   ]
  },
  {
   "cell_type": "code",
   "execution_count": 5,
   "metadata": {},
   "outputs": [
    {
     "data": {
      "text/plain": [
       "[]"
      ]
     },
     "execution_count": 5,
     "metadata": {},
     "output_type": "execute_result"
    },
    {
     "data": {
      "image/png": "[encoded data removed]",
      "text/plain": [
       "<Figure size 432x288 with 1 Axes>"
      ]
     },
     "metadata": {},
     "output_type": "display_data"
    }
   ],
   "source": [
    "for i in range(n):\n",
    "    if training_labels[i]==0:\n",
    "        plt.scatter(transformed_training_data[i,0], transformed_training_data[i,1], color = \"red\")\n",
    "    else:\n",
    "        plt.scatter(transformed_training_data[i,0], transformed_training_data[i,1], color = \"green\")\n",
    "for i in range(test_n):\n",
    "    if classified_test_labels[i] == test_labels[i]:\n",
    "        plt.scatter(transformed_test_data[i,0], transformed_test_data[i,1], color=\"blue\")\n",
    "    else:\n",
    "        plt.scatter(transformed_test_data[i,0], transformed_test_data[i,1], color=\"black\")\n",
    "plt.plot()"
   ]
  },
  {
   "cell_type": "markdown",
   "metadata": {},
   "source": [
    "Computation of the average classification error for the test set, defined as $\\frac{1}{N}\\sum_{i=1}^{N}1_{\\left \\{ \\widehat{y_i}\\neq y_i \\right \\}}$; here,\n",
    "$y_i$ denotes the true label of the i-th image, $\\widehat{y_i}$ denotes the label returned by k-NN, and N = 60 in this\n",
    "particular problem."
   ]
  },
  {
   "cell_type": "code",
   "execution_count": 6,
   "metadata": {},
   "outputs": [
    {
     "name": "stdout",
     "output_type": "stream",
     "text": [
      "Average Classification Error: 0.9346153846153846\n"
     ]
    }
   ],
   "source": [
    "#Error of Classification\n",
    "loss = 0\n",
    "for i in range(test_n):\n",
    "    if classified_test_labels[i] != test_labels[i]:\n",
    "        loss += 1\n",
    "print(\"Average Classification Error:\", loss/test_n)"
   ]
  },
  {
   "cell_type": "markdown",
   "metadata": {},
   "source": [
    "<h4>k-NN Classification Using Higher-dimensional Features</h4>\n",
    "<br>\n",
    "PCA of images in the training set and compute r-dimensional PCA features of training\n",
    "images such that the top-r principal components capture 95% of variation within the training data\n",
    "<br>\n",
    "$\\frac{\\sum_{i=1}^{k} \\sigma^2_i}{\\left \\| \\overline{X} \\right \\|^2_F}\\geq .95$"
   ]
  },
  {
   "cell_type": "code",
   "execution_count": 7,
   "metadata": {},
   "outputs": [
    {
     "name": "stdout",
     "output_type": "stream",
     "text": [
      "95% of the Original Data is represented by the top 16 principal components\n"
     ]
    }
   ],
   "source": [
    "#Finding the smallest number of principal components for .95 Representation of Original Data:\n",
    "training_images_centered = np.zeros((m,n))\n",
    "for i in range(n):\n",
    "    #Centering Training Data\n",
    "    training_images_centered[:,i] = np.transpose(training_images)[:,i] - np.transpose(training_images).mean(1)\n",
    "training_data_norm_squared = np.square(np.linalg.norm(training_images_centered))\n",
    "svd_u, svd_sigma, svd_v = np.linalg.svd(training_images_centered, full_matrices = True)  # SVD\n",
    "\n",
    "r = 0 #Top r principal components\n",
    "\n",
    "for i in range(len(svd_sigma)):\n",
    "    sum = 0\n",
    "    representation = 0;\n",
    "    for j in range(i+1):\n",
    "        sum += np.square(svd_sigma[j])\n",
    "    representation = sum/training_data_norm_squared\n",
    "    if representation >= .95:\n",
    "        r = i+1\n",
    "        print(\"95% of the Original Data is represented by the top\", r, \"principal components\")\n",
    "        break"
   ]
  },
  {
   "cell_type": "markdown",
   "metadata": {},
   "source": [
    "19-Dimensional PCA on Training Image Set"
   ]
  },
  {
   "cell_type": "code",
   "execution_count": 8,
   "metadata": {},
   "outputs": [],
   "source": [
    "#Performing PCA on the training image set with r principal components\n",
    "transformed_train_r = pca(training_images, r) #Feature Vectors"
   ]
  },
  {
   "cell_type": "markdown",
   "metadata": {},
   "source": [
    "Classification of each image in the test set by first transforming it to the r-dimensional PCA domain using the\n",
    "principal components obtained above and then using k-NN classification with the distance metric being\n",
    "$\\left \\| \\cdot  \\right \\|_2$ and k being an odd integer from 1 to 9."
   ]
  },
  {
   "cell_type": "code",
   "execution_count": 9,
   "metadata": {},
   "outputs": [],
   "source": [
    "#Transforming Test Set into r-D\n",
    "transformed_test_r = pca(test_images, r) #Feature Vectors"
   ]
  },
  {
   "cell_type": "code",
   "execution_count": 10,
   "metadata": {},
   "outputs": [
    {
     "name": "stdout",
     "output_type": "stream",
     "text": [
      "Average Classification Error, k = 1 : 0.9346153846153846\n",
      "Average Classification Error, k = 3 : 0.9346153846153846\n",
      "Average Classification Error, k = 5 : 0.9346153846153846\n",
      "Average Classification Error, k = 7 : 0.9346153846153846\n",
      "Average Classification Error, k = 9 : 0.9346153846153846\n"
     ]
    }
   ],
   "source": [
    "#Classifying Test Set with k-Nearest Neighbors (k=1,3,5,7,9)\n",
    "for k in range(1,10,2):\n",
    "    classified_test_labels = kNN(transformed_test_r, transformed_train_r, training_labels, num_of_classes, k)\n",
    "\n",
    "    #Error of Classification\n",
    "    loss = 0\n",
    "    for i in range(test_n):\n",
    "        if classified_test_labels[i] != test_labels[i]:\n",
    "            loss += 1\n",
    "    print(\"Average Classification Error, k =\",k,\":\", loss/test_n)"
   ]
  },
  {
   "cell_type": "code",
   "execution_count": null,
   "metadata": {},
   "outputs": [],
   "source": []
  }
 ],
 "metadata": {
  "kernelspec": {
   "display_name": "Python 3",
   "language": "python",
   "name": "python3"
  },
  "language_info": {
   "codemirror_mode": {
    "name": "ipython",
    "version": 3
   },
   "file_extension": ".py",
   "mimetype": "text/x-python",
   "name": "python",
   "nbconvert_exporter": "python",
   "pygments_lexer": "ipython3",
   "version": "3.6.5"
  }
 },
 "nbformat": 4,
 "nbformat_minor": 2
}
