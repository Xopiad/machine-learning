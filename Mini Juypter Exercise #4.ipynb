{
 "cells": [
  {
   "cell_type": "markdown",
   "metadata": {},
   "source": [
    "<h1>ECE 445: Machine Learning for Engineers - Albert Tran</h1>\n",
    "<h2>Mini Jupyter Exercise #4</h2>\n",
    "<h3>k-Nearest Neighbor Classification</h3>\n",
    "<br>\n",
    "<strong>Objective:</strong> In this exercise, we will engage in classification of images of handwritten digits ‘0’ and ‘1’ using\n",
    "k-nearest neighbor (k-NN) classification.\n",
    "<br>\n",
    "<h4>Training Data</h4>"
   ]
  },
  {
   "cell_type": "code",
   "execution_count": 1,
   "metadata": {},
   "outputs": [],
   "source": [
    "%matplotlib inline\n",
    "import matplotlib.pyplot as plt\n",
    "import numpy as np\n",
    "import math\n",
    "\n",
    "from sklearn.datasets import load_digits\n",
    "images, labels = load_digits(2, return_X_y = True)\n",
    "\n",
    "# Labeled training set\n",
    "training_images = images[:300]\n",
    "training_labels = labels[:300]\n",
    "\n",
    "# Labeled test set\n",
    "test_images = images[300:]\n",
    "test_labels = labels[300:]"
   ]
  },
  {
   "cell_type": "markdown",
   "metadata": {},
   "source": [
    "<h4>k-NN Classification Using 2-D Features</h4>"
   ]
  },
  {
   "cell_type": "code",
   "execution_count": null,
   "metadata": {},
   "outputs": [],
   "source": []
  }
 ],
 "metadata": {
  "kernelspec": {
   "display_name": "Python 3",
   "language": "python",
   "name": "python3"
  },
  "language_info": {
   "codemirror_mode": {
    "name": "ipython",
    "version": 3
   },
   "file_extension": ".py",
   "mimetype": "text/x-python",
   "name": "python",
   "nbconvert_exporter": "python",
   "pygments_lexer": "ipython3",
   "version": "3.6.5"
  }
 },
 "nbformat": 4,
 "nbformat_minor": 2
}
