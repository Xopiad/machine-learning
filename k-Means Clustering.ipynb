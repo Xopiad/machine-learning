{
 "cells": [
  {
   "cell_type": "markdown",
   "metadata": {},
   "source": [
    "Implementing k-Means to get a better picture of how the algorithm works. Using data generated from normal distributions as input data.(Out of Class Exercise)"
   ]
  },
  {
   "cell_type": "code",
   "execution_count": 1,
   "metadata": {},
   "outputs": [],
   "source": [
    "%matplotlib inline\n",
    "import matplotlib.pyplot as plt\n",
    "import numpy as np\n",
    "import math\n",
    "\n",
    "#Input data (Trivial) \n",
    "'''\n",
    "training_data = np.matrix([[0,0],[0,0.25],[0,0.5],[0,0.75],[0,1],\n",
    "                           [0.1,0],[0.1,0.25],[0.1,0.5],[0.1,0.75],[0.1,1],\n",
    "                           [-3,1],[-2.75,1],[-2.5,1],[-2.25,1],[-2,1],\n",
    "                           [-3,1.1],[-2.75,1.1],[-2.5,1.1],[-2.25,1.1],[-2,1.1],\n",
    "                           [-1,-3],[-1,-3.25],[-1,-3.5],[-1,-3.75],[-1,-4],\n",
    "                           [-1.1,-3],[-1.1,-3.25],[-1.1,-3.5],[-1.1,-3.75],[-1.1,-4]])\n",
    "'''\n",
    "\n",
    "#Training Data (Normal Distribution)\n",
    "training_data = np.zeros((999,2))\n",
    "\n",
    "for i in range(333):\n",
    "    training_data[i] = np.random.normal([-4,2],1.5)\n",
    "    training_data[i+333] = np.random.normal([5,3],1.5)\n",
    "    training_data[i+666] = np.random.normal([0,-6],[2,1])\n",
    "\n",
    "k = 3 #Number of Clusters\n",
    "n = len(training_data) #Number of data samples\n",
    "m = 2 #Dimenstionalilty of Data"
   ]
  },
  {
   "cell_type": "code",
   "execution_count": 2,
   "metadata": {},
   "outputs": [],
   "source": [
    "mean = np.zeros((k,m))\n",
    "cluster = np.zeros((n))\n",
    "population = np.zeros((k))\n",
    "for j in range(n):\n",
    "        cluster[j] = np.random.randint(0,k) #Random Initialization of Clusters"
   ]
  },
  {
   "cell_type": "code",
   "execution_count": 3,
   "metadata": {},
   "outputs": [
    {
     "name": "stdout",
     "output_type": "stream",
     "text": [
      "k-means converged after  5 iterations\n"
     ]
    }
   ],
   "source": [
    "change = True #Variable to test whether change in clusters occured\n",
    "num_of_iter = 0 #Measure of how many iterations until convergence\n",
    "\n",
    "while change:\n",
    "    mean = np.zeros((k,m)) #Reset the means of each cluster to zero for new iteration\n",
    "    population = np.zeros((k)) #Reset the population of each cluster to zero for new iteration\n",
    "    change = False #Reset change in cluster variable\n",
    "    for j in range(n):\n",
    "        population[int(cluster[j])]+=1 #Calculate number of data samples in each cluster\n",
    "    for j in range(n):\n",
    "        mean[int(cluster[j])]+=training_data[j] #Calculate sum of all data samples of each cluster\n",
    "    for j in range(k):\n",
    "        mean[j]/=population[j] #Divide each sum by the population of each cluster to get the mean of each cluster\n",
    "    \n",
    "    #For all data samples, change cluster to the cluster with the nearest mean\n",
    "    for j in range(n):\n",
    "        for m in range(k):\n",
    "            if m != int(cluster[j]):\n",
    "                if np.linalg.norm(training_data[j]-mean[m]) < np.linalg.norm(training_data[j]-mean[int(cluster[j])]):\n",
    "                    cluster[j] = m #Change cluster of data sample j to cluster m\n",
    "                    change = True #Change in clusters occured\n",
    "    num_of_iter += 1\n",
    "\n",
    "print(\"k-means converged after \", num_of_iter, \"iterations\")"
   ]
  },
  {
   "cell_type": "code",
   "execution_count": 4,
   "metadata": {},
   "outputs": [
    {
     "data": {
      "text/plain": [
       "[]"
      ]
     },
     "execution_count": 4,
     "metadata": {},
     "output_type": "execute_result"
    },
    {
     "data": {
      "image/png": "[encoded data removed]",
      "text/plain": [
       "<Figure size 432x288 with 1 Axes>"
      ]
     },
     "metadata": {},
     "output_type": "display_data"
    }
   ],
   "source": [
    "#Plotting data for 3 clusters\n",
    "for z in range(n):\n",
    "    if cluster[z] == 0:\n",
    "        plt.scatter(training_data[z,0], training_data[z,1], c=\"black\")    \n",
    "    elif cluster[z] == 1:\n",
    "        plt.scatter(training_data[z,0], training_data[z,1], c=\"blue\")\n",
    "    elif cluster[z] == 2:\n",
    "        plt.scatter(training_data[z,0], training_data[z,1], c=\"red\")\n",
    "for y in range(k):\n",
    "    plt.scatter(mean[y,0], mean[y,1], c=\"orange\")\n",
    "plt.gca().set_aspect('equal', adjustable='box')\n",
    "plt.plot() "
   ]
  }
 ],
 "metadata": {
  "kernelspec": {
   "display_name": "Python 3",
   "language": "python",
   "name": "python3"
  },
  "language_info": {
   "codemirror_mode": {
    "name": "ipython",
    "version": 3
   },
   "file_extension": ".py",
   "mimetype": "text/x-python",
   "name": "python",
   "nbconvert_exporter": "python",
   "pygments_lexer": "ipython3",
   "version": "3.6.5"
  }
 },
 "nbformat": 4,
 "nbformat_minor": 2
}
