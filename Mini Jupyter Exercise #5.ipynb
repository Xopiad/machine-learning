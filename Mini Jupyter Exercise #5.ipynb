{
 "cells": [
  {
   "cell_type": "markdown",
   "metadata": {},
   "source": [
    "<h1>ECE 445: Machine Learning for Engineers - Albert Tran</h1>\n",
    "<h2>Mini Jupyter Exercise #5</h2>\n",
    "<h3>k-Fold Cross Validation and Naive Bayes Classification</h3>\n",
    "<br>\n",
    "<strong>Objective:</strong> In this exercise, we will reinforce the concepts of standardization of raw data, k-Fold Cross Validation and Naive Bayes Classification.\n",
    "<br>\n",
    "<h4>Wine Data</h4>\n",
    "In this exercise, we will use the Wine dataset from UCI Machine Learning Repository (https://archive.ics.uci.edu/ml/datasets/wine). This is a three-class dataset comprising 178 data samples, with each sample described by a total of 13 (integer- or real-valued) attributes (i.e., each data sample is 13-dimensional). The three class labels of 0, 1, and 2 correspond to three different cultivars that gave rise to the wines included in the dataset. This dataset comes standard with the sklearn Python package, and can be loaded using the following code:"
   ]
  },
  {
   "cell_type": "code",
   "execution_count": 1,
   "metadata": {},
   "outputs": [],
   "source": [
    "from sklearn.datasets import load_wine\n",
    "samples, labels = load_wine(return_X_y=True)"
   ]
  },
  {
   "cell_type": "markdown",
   "metadata": {},
   "source": [
    "<h4>Standardization of Data</h4>\n",
    "In an earlier exercise (Exercise #2), we discussed the importance of centering of data for feature learning and extraction using principal component analysis (PCA). In many datasets, especially those in which a sample is given by attributes (raw features) that have different scaling, it is also important to both center and normalize the data before feature learning using PCA. (Refer to “Scaling the Variables” within Sec. 10.2.3 of “An Introduction to Statistical Learning” for more discussion on this topic.) In this exercise, we will focus on normalization that makes the (empirical) variance of each attribute unity. Data that has both been centered and normalized to have zero mean and unit variance at the attribute (raw feature) level is often referred to as standardized data."
   ]
  },
  {
   "cell_type": "markdown",
   "metadata": {},
   "source": [
    "Centering the wine dataset so that each attribute has zero (empirical) mean."
   ]
  },
  {
   "cell_type": "code",
   "execution_count": 2,
   "metadata": {},
   "outputs": [],
   "source": [
    "%matplotlib inline\n",
    "import matplotlib.pyplot as plt\n",
    "import numpy as np\n",
    "import math\n",
    "\n",
    "mean = samples.mean(0) #Mean vector of data\n",
    "m = len(samples[0]) #Dimensionality of data\n",
    "\n",
    "centered_wine_data = np.zeros((len(samples), m))\n",
    "\n",
    "for i in range(len(samples)):\n",
    "    centered_wine_data[i] = samples[i] - mean"
   ]
  },
  {
   "cell_type": "markdown",
   "metadata": {},
   "source": [
    "Defining PCA Function"
   ]
  },
  {
   "cell_type": "code",
   "execution_count": 3,
   "metadata": {},
   "outputs": [],
   "source": [
    "#Define PCA Function\n",
    "def pca(data, num_of_prin_comp, data_orientation = \"row\"):\n",
    "    num_of_data = len(data)\n",
    "    dim_of_data = len(data[0])\n",
    "    if data_orientation == \"row\":\n",
    "        transposed_data = np.transpose(data) #Changes dataset so that data samples are column vectors\n",
    "    mean = transposed_data.mean(1)  #Mean Vector\n",
    "    centered_data = np.zeros((dim_of_data,num_of_data))\n",
    "\n",
    "    for i in range(num_of_data):\n",
    "        centered_data[:,i] = transposed_data[:,i] - mean  #Centering Data\n",
    "\n",
    "    svd_u, svd_sigma, svd_v = np.linalg.svd(centered_data, full_matrices = True)  # Singular Value Decompostion\n",
    "\n",
    "    u = np.zeros((dim_of_data,num_of_prin_comp))\n",
    "    s = np.zeros((num_of_prin_comp,num_of_prin_comp))\n",
    "\n",
    "    for i in range(dim_of_data):\n",
    "        for j in range(num_of_prin_comp):\n",
    "            u[i,j] = svd_u[i,j] #First r singular vectors of U\n",
    "    for i in range(num_of_prin_comp):\n",
    "        s[i,i] = svd_sigma[i] #Largest r singular values\n",
    "    \n",
    "    w = np.matrix(u)*np.matrix(s) #Principal Component Matrix with Principal Axes as Columns\n",
    "    for i in range(num_of_prin_comp):\n",
    "        w[:,i] = w[:,i]/np.linalg.norm(w[:,i]) #Normalizing Each Principal Component\n",
    "\n",
    "\n",
    "    transformed_data = np.transpose(np.transpose(w)*centered_data) #Feature Vectors\n",
    "    return transformed_data"
   ]
  },
  {
   "cell_type": "markdown",
   "metadata": {},
   "source": [
    "Computation two-dimensional PCA features of the centered wine dataset."
   ]
  },
  {
   "cell_type": "code",
   "execution_count": 4,
   "metadata": {},
   "outputs": [],
   "source": [
    "wine_ctr_pca = pca(centered_wine_data, 2, \"row\")"
   ]
  },
  {
   "cell_type": "markdown",
   "metadata": {},
   "source": [
    "Display of the two-dimensional features of wine data samples as points on a two-dimensional scatter plot. All points corresponding to:<br> (i) label ‘0’ as red squares, <br>\n",
    "(ii) label ‘1’ as green triangles,<br>\n",
    "and (iii) label ‘2’ as blue circles."
   ]
  },
  {
   "cell_type": "code",
   "execution_count": 5,
   "metadata": {},
   "outputs": [
    {
     "data": {
      "text/plain": [
       "[]"
      ]
     },
     "execution_count": 5,
     "metadata": {},
     "output_type": "execute_result"
    },
    {
     "data": {
      "image/png": "[encoded data removed]",
      "text/plain": [
       "<Figure size 432x288 with 1 Axes>"
      ]
     },
     "metadata": {},
     "output_type": "display_data"
    }
   ],
   "source": [
    "for i in range(len(samples)):\n",
    "    if labels[i] == 0:\n",
    "        zero = plt.scatter(wine_ctr_pca[i,0], wine_ctr_pca[i,1], c=\"red\", marker=\"s\")\n",
    "    elif labels[i] == 1:\n",
    "        one = plt.scatter(wine_ctr_pca[i,0], wine_ctr_pca[i,1], c=\"green\", marker=\"^\")\n",
    "    elif labels[i] == 2:\n",
    "        two = plt.scatter(wine_ctr_pca[i,0], wine_ctr_pca[i,1], c=\"blue\", marker=\"o\")\n",
    "plt.legend((zero, one, two), (\"0\", \"1\", \"2\"), bbox_to_anchor=(1, 1), loc='upper left', ncol=1)\n",
    "plt.title(\"Centered Wine Data Transformed Into 2D\")\n",
    "plt.plot()"
   ]
  },
  {
   "cell_type": "markdown",
   "metadata": {},
   "source": [
    "Normalization of the centered wine dataset so that each attribute also has unit (empirical) variance."
   ]
  },
  {
   "cell_type": "code",
   "execution_count": 6,
   "metadata": {},
   "outputs": [],
   "source": [
    "wine_ctr_norm = np.zeros((len(samples), m))\n",
    "\n",
    "for i in range(m):\n",
    "    wine_ctr_norm[:,i] = centered_wine_data[:,i]/np.linalg.norm(centered_wine_data[:,i]) #Dividing each feature vector by its norm"
   ]
  },
  {
   "cell_type": "markdown",
   "metadata": {},
   "source": [
    "Computation two-dimensional PCA features of the standardized (centered and normalized) wine dataset."
   ]
  },
  {
   "cell_type": "code",
   "execution_count": 7,
   "metadata": {},
   "outputs": [],
   "source": [
    "wine_ctr_norm_pca = pca(wine_ctr_norm, 2, \"row\")"
   ]
  },
  {
   "cell_type": "markdown",
   "metadata": {},
   "source": [
    "Display of the two-dimensional features of standardized wine data samples as points on a two-dimensional scatter plot. All points corresponding to:<br> \n",
    "(i) label ‘0’ as red squares, <br>\n",
    "(ii) label ‘1’ as green triangles,<br>\n",
    "and (iii) label ‘2’ as blue circles."
   ]
  },
  {
   "cell_type": "code",
   "execution_count": 8,
   "metadata": {},
   "outputs": [
    {
     "data": {
      "text/plain": [
       "[]"
      ]
     },
     "execution_count": 8,
     "metadata": {},
     "output_type": "execute_result"
    },
    {
     "data": {
      "image/png": "[encoded data removed]",
      "text/plain": [
       "<Figure size 432x288 with 1 Axes>"
      ]
     },
     "metadata": {},
     "output_type": "display_data"
    }
   ],
   "source": [
    "for i in range(len(samples)):\n",
    "    if labels[i] == 0:\n",
    "        zero = plt.scatter(wine_ctr_norm_pca[i,0], wine_ctr_norm_pca[i,1], c=\"red\", marker=\"s\")\n",
    "    elif labels[i] == 1:\n",
    "        one = plt.scatter(wine_ctr_norm_pca[i,0], wine_ctr_norm_pca[i,1], c=\"green\", marker=\"^\")\n",
    "    elif labels[i] == 2:\n",
    "        two = plt.scatter(wine_ctr_norm_pca[i,0], wine_ctr_norm_pca[i,1], c=\"blue\", marker=\"o\")\n",
    "plt.legend((zero, one, two), (\"0\", \"1\", \"2\"), bbox_to_anchor=(1, 1), loc='upper left', ncol=1)\n",
    "plt.title(\"Standardized Wine Data Transformed Into 2D\")\n",
    "plt.plot()"
   ]
  },
  {
   "cell_type": "markdown",
   "metadata": {},
   "source": [
    "Looking at the graphs of the 2-Dimensional PCA of the centered data and the standardized data, it looks like the standardized data will lead to better classification performance because there is better seperation of the classes when the data is standardized."
   ]
  },
  {
   "cell_type": "markdown",
   "metadata": {},
   "source": [
    "<h4>Naive Bayes Classification</h4>\n",
    "Creation of a three-class naive Bayes classifier that takes as input two-dimensional data and assumes each feature of the data to be conditionally Gaussian (i.e., Gaussian naive Bayes). You should assume that all classes are equally likely and that the class labels take values in the set {0, 1, 2}, as in the wine dataset."
   ]
  },
  {
   "cell_type": "code",
   "execution_count": null,
   "metadata": {},
   "outputs": [],
   "source": []
  }
 ],
 "metadata": {
  "kernelspec": {
   "display_name": "Python 3",
   "language": "python",
   "name": "python3"
  },
  "language_info": {
   "codemirror_mode": {
    "name": "ipython",
    "version": 3
   },
   "file_extension": ".py",
   "mimetype": "text/x-python",
   "name": "python",
   "nbconvert_exporter": "python",
   "pygments_lexer": "ipython3",
   "version": "3.6.5"
  }
 },
 "nbformat": 4,
 "nbformat_minor": 2
}
